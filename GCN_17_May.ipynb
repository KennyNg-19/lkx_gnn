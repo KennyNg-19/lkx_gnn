{
 "cells": [
  {
   "cell_type": "code",
   "execution_count": 8,
   "metadata": {
    "colab": {
     "base_uri": "https://localhost:8080/"
    },
    "id": "VvwNJ0udXw2-",
    "outputId": "276b52bd-af9a-4206-e72b-af1b64a210c3"
   },
   "outputs": [],
   "source": [
    "# !pip install torch-scatter torch-sparse torch-cluster torch-spline-conv torch-geometric -f https://data.pyg.org/whl/torch-1.11.0+cpu.html\n",
    "# !pip install torch torchvision torchaudio \n",
    "# !pip install sklearn numpy matplotlib\n",
    "\n",
    "# !pip install -q torch-scatter -f https://data.pyg.org/whl/torch-${TORCH}.html\n",
    "# !pip install -q torch-sparse -f https://data.pyg.org/whl/torch-${TORCH}.html\n",
    "# !pip install -q git+https://github.com/pyg-team/pytorch_geometric.git"
   ]
  },
  {
   "cell_type": "code",
   "execution_count": 9,
   "metadata": {
    "id": "o8SVAIR6yJB6"
   },
   "outputs": [
    {
     "name": "stdout",
     "output_type": "stream",
     "text": [
      "1.12.0\n"
     ]
    }
   ],
   "source": [
    "# 1. import Python standard built-in modules\n",
    "import os\n",
    "\n",
    "# 2. import 3rd party libraries\n",
    "# data science libs\n",
    "from sklearn.preprocessing import StandardScaler\n",
    "import numpy as np\n",
    "import matplotlib.pyplot as plt\n",
    "import pandas as pd\n",
    "# import seaborn as sns\n",
    "\n",
    "# deep learning/AI libs\n",
    "import torch\n",
    "os.environ['TORCH'] = torch.__version__\n",
    "print(torch.__version__)\n",
    "\n",
    "import torch.nn.functional as F\n",
    "import torch.nn as nn\n",
    "# from torch.nn import Linear, ReLU\n",
    "\n",
    "\n",
    "from torch_geometric.data import Data\n",
    "\n",
    "# 3. import local modules\n",
    "# from models import *\n",
    "import models as my_models # known that these are my model\n"
   ]
  },
  {
   "cell_type": "code",
   "execution_count": 10,
   "metadata": {},
   "outputs": [],
   "source": [
    "# 固定 the random number so that the experiments are reproducible \n",
    "# 同一次kernel运行 不重启，实验结果是可复现的\n",
    "# random.seed(0)\n",
    "np.random.seed(0)\n",
    "torch.manual_seed(0);"
   ]
  },
  {
   "cell_type": "markdown",
   "metadata": {},
   "source": [
    "## Data & preprocess"
   ]
  },
  {
   "cell_type": "code",
   "execution_count": 11,
   "metadata": {
    "id": "xYtCdaAryZxC"
   },
   "outputs": [],
   "source": [
    "Edges_train = pd.read_excel('graph10.xlsx', sheet_name= 'Sheet2')\n",
    "Edges_test = pd.read_excel('graph10.xlsx', sheet_name= 'Sheet4')\n",
    "Edges_validation = pd.read_excel('graph10.xlsx', sheet_name= 'Sheet6')\n",
    "\n",
    "dataset_train = pd.read_excel('graph10.xlsx', sheet_name= 'Train2')\n",
    "dataset_test = pd.read_excel('graph10.xlsx', sheet_name = 'Test2')\n",
    "dataset_validation = pd.read_excel('graph10.xlsx', sheet_name= 'Validation')\n",
    "\n",
    "#one_hot_cols = pd.get_dummies(dataset_train['Flat Type'], prefix='Flat')\n",
    "#dataset_train = dataset_train.drop(columns=['Flat Type'])\n",
    "#dataset_train = pd.concat([one_hot_cols, dataset_train], axis=1)\n",
    "\n",
    "#one_hot_cols = pd.get_dummies(dataset_test['Flat Type'], prefix='Flat')\n",
    "#dataset_test = dataset_test.drop(columns=['Flat Type'])\n",
    "#dataset_test = pd.concat([one_hot_cols, dataset_test], axis=1)\n",
    "\n",
    "#one_hot_cols = pd.get_dummies(dataset_train['Room Type'], prefix='Room')\n",
    "#dataset_train = dataset_train.drop(columns=['Room Type'])\n",
    "#dataset_train = pd.concat([one_hot_cols, dataset_train], axis=1)\n",
    "\n",
    "#one_hot_cols = pd.get_dummies(dataset_test['Room Type'], prefix='Room')\n",
    "#dataset_test = dataset_test.drop(columns=['Room Type'])\n",
    "#dataset_test = pd.concat([one_hot_cols, dataset_test], axis=1)\n",
    "\n",
    "# one_hot_cols = pd.get_dummies(dataset_train['Wing Orientation'], prefix='Wing')\n",
    "# dataset_train = dataset_train.drop(columns=['Wing Orientation'])\n",
    "# dataset_train = pd.concat([one_hot_cols, dataset_train], axis=1)\n",
    "\n",
    "# one_hot_cols = pd.get_dummies(dataset_test['Wing Orientation'], prefix='Wing')\n",
    "# dataset_test = dataset_test.drop(columns=['Wing Orientation'])\n",
    "# dataset_test = pd.concat([one_hot_cols, dataset_test], axis=1)\n",
    "\n",
    "# one_hot_cols = pd.get_dummies(dataset_train['Flat Orientation'], prefix='Flat Orientation')\n",
    "# dataset_train = dataset_train.drop(columns=['Flat Orientation'])\n",
    "# dataset_train = pd.concat([one_hot_cols, dataset_train], axis=1)\n",
    "\n",
    "# one_hot_cols = pd.get_dummies(dataset_test['Flat Orientation'], prefix='Flat Orientation')\n",
    "# dataset_test = dataset_test.drop(columns=['Flat Orientation'])\n",
    "# dataset_test = pd.concat([one_hot_cols, dataset_test], axis=1)\n",
    "\n",
    "dataset_train.fillna(0, inplace=True)\n",
    "dataset_test.fillna(0, inplace=True)\n",
    "dataset_validation.fillna(0, inplace=True)\n",
    "\n",
    "train_X = dataset_train.iloc[0:, :15]\n",
    "train_Y = dataset_train.iloc[0:, 15:]\n",
    "\n",
    "test_X = dataset_test.iloc[0:, :15]\n",
    "test_Y = dataset_test.iloc[0:, 15:]\n",
    "\n",
    "validation_X = dataset_validation.iloc[0:, :15]\n",
    "validation_Y = dataset_validation.iloc[0:, 15:]\n",
    "\n",
    "scalerX = StandardScaler().fit(train_X)\n",
    "scalerY = StandardScaler().fit(train_Y)\n",
    "train_X = scalerX.transform(train_X)\n",
    "train_Y = scalerY.transform(train_Y)\n",
    "test_X = scalerX.transform(test_X)\n",
    "test_Y = scalerY.transform(test_Y)\n",
    "\n",
    "validation_X = scalerX.transform(validation_X)\n",
    "validation_Y = scalerY.transform(validation_Y)\n",
    "\n",
    "edges_train = Edges_train.values - 1\n",
    "edges_train = torch.from_numpy(edges_train).t()\n",
    "edges_train = edges_train.long()\n",
    "\n",
    "edges_test = Edges_test.values - 1\n",
    "edges_test = torch.from_numpy(edges_test).t()\n",
    "edges_test = edges_test.long()\n",
    "\n",
    "edges_validation = Edges_validation.values - 1\n",
    "edges_validation = torch.from_numpy(edges_validation).t()\n",
    "edges_validation = edges_validation.long()\n",
    "\n",
    "train = pd.concat([pd.DataFrame(train_X), pd.DataFrame(train_Y)], axis=1)\n",
    "test = pd.concat([pd.DataFrame(test_X), pd.DataFrame(test_Y)], axis=1)\n",
    "validation = pd.concat([pd.DataFrame(validation_X), pd.DataFrame(validation_Y)], axis=1)\n",
    "\n",
    "train_X = torch.tensor(np.array(train_X.astype('f')))\n",
    "train_Y = torch.tensor(np.array(train_Y.astype('f')))\n",
    "\n",
    "test_X = torch.tensor(np.array(test_X.astype('f')))\n",
    "test_Y = torch.tensor(np.array(test_Y.astype('f')))\n",
    "\n",
    "validation_X = torch.tensor(np.array(validation_X.astype('f')))\n",
    "validation_Y = torch.tensor(np.array(validation_Y.astype('f')))\n",
    "\n",
    "\n",
    "train_data = Data(x = train_X, edge_index = edges_train, y = train_Y)\n",
    "test_data = Data(x = test_X, edge_index = edges_test, y = test_Y)\n",
    "val_data = Data(x = validation_X, edge_index = edges_validation, y = validation_Y)\n",
    "\n",
    "# ACH_MEAN = dataset_train.ACH.mean()\n",
    "# ACH_var = dataset_train.ACH.var()\n",
    "# ACH_Min = dataset_train.ACH.min()\n",
    "# ACH_Max = dataset_train.ACH.max()\n",
    "# CP_MEAN = dataset_train.CP.mean()\n",
    "# CP_var = dataset_train.CP.var()\n",
    "# CP_Min = dataset_train.CP.min()\n",
    "# CP_Max = dataset_train.CP.max()\n",
    "\n",
    "\n",
    "train_Y_mean = train_Y.mean()\n",
    "train_Y_var = train_Y.var()\n"
   ]
  },
  {
   "cell_type": "markdown",
   "metadata": {},
   "source": [
    "## Model define(写在 和参数一起了)"
   ]
  },
  {
   "cell_type": "markdown",
   "metadata": {},
   "source": [
    "## Model training/evaluation"
   ]
  },
  {
   "cell_type": "code",
   "execution_count": 36,
   "metadata": {},
   "outputs": [],
   "source": [
    "# 构造模型\n",
    "model = my_models.GCN1()\n",
    "\n",
    "# 学习优化器\n",
    "learning_rate = 8e-4 # TODO 降低，模型太好了，收敛过快！\n",
    "weight_decay = 1e-4\n",
    "optimizer = torch.optim.Adam(model.parameters(), lr=learning_rate, weight_decay=weight_decay)\n",
    "\n",
    "# 损失函数\n",
    "# criterion = torch.nn.MSELoss()\n",
    "loss_f = torch.nn.HuberLoss(reduction='mean', delta=0.15)\n",
    "\n",
    "# 设置训练网络的参数\n",
    "# 记录 epoch loss\n",
    "train_losses = []\n",
    "val_losses = []\n",
    "\n",
    "\n",
    "# ====== 未使用到的参数 =======\n",
    "# 训练【总的】次数 - 用于整个训练的画图\n",
    "train_step = 0\n",
    "# 测试【总的】次数 - 用于整个训练的画图\n",
    "val_step = 0\n",
    "# training hyper params\n",
    "batch_size = 100 # 未使用到\n",
    "\n",
    "\n",
    "# 训练轮数\n",
    "epoch = 1000\n",
    "\n",
    "def draw_loss(train_losses, val_losses):\n",
    "  plt.figure()\n",
    "  plt.title('loss',fontsize=15)\n",
    "  plt.plot(train_losses,'-')\n",
    "  plt.plot(val_losses,'-')\n",
    "  plt.ylabel('loss')\n",
    "  plt.xlabel('epoch')\n",
    "  plt.legend(['Train','Eval/Test'])\n",
    "  plt.show\n"
   ]
  },
  {
   "cell_type": "code",
   "execution_count": 37,
   "metadata": {},
   "outputs": [
    {
     "name": "stdout",
     "output_type": "stream",
     "text": [
      "=======Totally train 1000 epochs=======\n",
      "-------100th epoch-------\n",
      "train loss: 0.0134, acc: 0.8207 | val loss: 0.006106, acc: 0.916667\n",
      "-------200th epoch-------\n",
      "train loss: 0.0099, acc: 0.8739 | val loss: 0.004974, acc: 0.888889\n",
      "-------300th epoch-------\n",
      "train loss: 0.0077, acc: 0.9085 | val loss: 0.002870, acc: 0.944444\n",
      "-------400th epoch-------\n",
      "train loss: 0.0061, acc: 0.9207 | val loss: 0.005575, acc: 0.944444\n",
      "-------500th epoch-------\n",
      "train loss: 0.0052, acc: 0.9133 | val loss: 0.001815, acc: 1.000000\n",
      "-------600th epoch-------\n",
      "train loss: 0.0037, acc: 0.9351 | val loss: 0.001200, acc: 1.000000\n",
      "-------700th epoch-------\n",
      "train loss: 0.0029, acc: 0.9367 | val loss: 0.003121, acc: 0.972222\n",
      "-------800th epoch-------\n",
      "train loss: 0.0028, acc: 0.9394 | val loss: 0.003445, acc: 0.972222\n",
      "-------900th epoch-------\n",
      "train loss: 0.0021, acc: 0.9574 | val loss: 0.001204, acc: 1.000000\n",
      "-------1000th epoch-------\n",
      "train loss: 0.0021, acc: 0.9564 | val loss: 0.001664, acc: 0.972222\n"
     ]
    },
    {
     "data": {
      "image/png": "[encoded data removed]",
      "text/plain": [
       "<Figure size 432x288 with 1 Axes>"
      ]
     },
     "metadata": {
      "needs_background": "light"
     },
     "output_type": "display_data"
    }
   ],
   "source": [
    "# 记录 epoch loss for plotting\n",
    "train_losses = []\n",
    "test_losses = []\n",
    "\n",
    "print(f'=======Totally train {epoch} epochs=======')\n",
    "for epoch_no in range(epoch):\n",
    "    \n",
    "    # 训练步骤开始\n",
    "    # 以防万一有BatchNorm和Dropout, 加上就好\n",
    "    model.train()\n",
    "  \n",
    "    # 优化器graient清零\n",
    "    optimizer.zero_grad()\n",
    "    \n",
    "    train_output = model(train_data.x, train_data.edge_index)\n",
    "    train_loss = loss_f(train_output, train_data.y)\n",
    "\n",
    "    # 反向传播，更新参数\n",
    "    train_loss.backward()\n",
    "    optimizer.step()\n",
    "    \n",
    "    # record\n",
    "    train_losses.append(train_loss.data)\n",
    "    \n",
    "    # if (epoch_no+1) % (epoch/10) == 0:\n",
    "        # print(\"-------{}th epoch-------\".format(epoch_no+1))\n",
    "        # train_correct = abs((train_output - train_data.y)/train_output) < 0.25  # Check against ground-truth labels.\n",
    "        # train_acc = int(train_correct.sum()) / len(train_output)\n",
    "        \n",
    "        # print(\"train loss: {:.5f}, acc: {:.5f}\".format(train_loss.data, train_acc))\n",
    "        # writer.add_scalar(\"train_bt_loss\", loss.data, train_step)\n",
    "    \n",
    "    \n",
    "    # 以防万一有，BatchNorm和Dropout, 加上就好\n",
    "    model.eval()\n",
    "    \n",
    "    # TODO 以下均为epoch为单位\n",
    "    # val_loss_epoch = 0 # 单独记下整个epoch的val loss\n",
    "    # val_correct_epoch = 0 # 为了最后，计算总的 acc\n",
    "    \n",
    "    with torch.no_grad(): # freeze gradient\n",
    "      \n",
    "        # val_output = model(test_data.x, test_data.edge_index)\n",
    "        # val_loss = loss_f(val_output, test_data.y)\n",
    "        val_output = model(val_data.x, val_data.edge_index)\n",
    "        val_loss = loss_f(val_output, val_data.y)\n",
    "        \n",
    "        # record\n",
    "        val_losses.append(val_loss.data)\n",
    "        # val_loss_total += val_loss.data\n",
    "        # val_step = val_step + 1\n",
    "\n",
    "    # ===========一个epoch 算一次 ============\n",
    "    if (epoch_no+1) % (epoch/10) == 0:\n",
    "        print(\"-------{}th epoch-------\".format(epoch_no+1))\n",
    "        # 统计 epoch的 acc\n",
    "        train_correct = abs((train_output - train_data.y)/train_output) < 0.25  # Check against ground-truth labels.\n",
    "        train_acc = int(train_correct.sum()) / len(train_output)\n",
    "        \n",
    "        val_correct = abs((val_output - val_data.y)/val_output) < 0.25  # Check against ground-truth labels.\n",
    "        val_acc = int(val_correct.sum()) / len(val_output)\n",
    "        \n",
    "        print(\"train loss: {:.4f}, acc: {:.4f}\".format(train_loss.data, train_acc) + \n",
    "              \" | val loss: {:4f}, acc: {:4f}\".format(val_loss.data, val_acc))\n",
    "    \n",
    "\n",
    "        # 保存当前epoch的model参数    \n",
    "        torch.save(model, f\"model_pth/{model.__class__.__name__}_ep{epoch_no+1}.pth\")\n",
    "        # print(f\"epoch{epoch_no+1}: 模型已保存\")\n",
    "    \n",
    "draw_loss(train_losses, val_losses)\n"
   ]
  },
  {
   "cell_type": "markdown",
   "metadata": {},
   "source": [
    "## Prediction预测真实数据，并输出"
   ]
  },
  {
   "cell_type": "code",
   "execution_count": 16,
   "metadata": {
    "colab": {
     "base_uri": "https://localhost:8080/",
     "height": 295
    },
    "id": "McOBfXHqX5zi",
    "outputId": "46b4515b-6e9c-4dd8-a295-cefe8838bf01"
   },
   "outputs": [
    {
     "data": {
      "image/png": "[encoded data removed]",
      "text/plain": [
       "<Figure size 432x288 with 1 Axes>"
      ]
     },
     "metadata": {
      "needs_background": "light"
     },
     "output_type": "display_data"
    }
   ],
   "source": [
    "model.eval()\n",
    "train_predictions = model(train_data.x, train_data.edge_index)\n",
    "# train_predictions = model(train_data.x)\n",
    "train_predictions_inverse = scalerY.inverse_transform(train_predictions.detach().cpu().numpy())\n",
    "train_Y_inverse = scalerY.inverse_transform(train_Y)\n",
    "\n",
    "prediction_frame = pd.DataFrame(train_predictions_inverse, index=dataset_train.index)\n",
    "test_2 = pd.concat([pd.DataFrame(test_X), pd.DataFrame(train_Y)], axis=1)\n",
    "result = pd.concat([test_2, prediction_frame], axis=1)\n",
    "result.rename(columns={0:'Prediction'},inplace = True)\n",
    "# result = test.join(prediction_frame)\n",
    "# pd.merge(test, prediction_frame, left_index=True)\n",
    "result.to_csv('result_Analysis_MAE_train.csv')\n",
    "\n",
    "writer = pd.ExcelWriter('result_analysis_train.xlsx')\n",
    "result.to_excel(writer, 'Sheet1')\n",
    "writer.save()\n",
    "\n",
    "fig = plt.figure()\n",
    "plt.title('Training Set')\n",
    "plt.scatter(train_Y_inverse, train_predictions_inverse)\n",
    "plt.xlabel('True Values [ACH]')\n",
    "plt.ylabel('Predictions [ACH]')\n",
    "x = np.linspace(-1,1)\n",
    "y = x\n",
    "plt.plot(x, y, '-r', label='y=x')\n",
    "plt.axis('equal')\n",
    "plt.axis('square')\n",
    "# plt.show()\n",
    "fig.set_size_inches(6, 4)\n",
    "fig.savefig('Training set.png', dpi=fig.dpi)\n",
    "# plt.xlim([-0.1, 55])\n",
    "# plt.ylim([-0.1, 55])\n",
    "# _ = plt.plot([-100, 100], [-100, 100])"
   ]
  },
  {
   "cell_type": "code",
   "execution_count": 24,
   "metadata": {
    "colab": {
     "base_uri": "https://localhost:8080/",
     "height": 295
    },
    "id": "7dGmrwNlYBHF",
    "outputId": "e804b61f-6aef-415e-f40e-1dbb8dd266c1"
   },
   "outputs": [
    {
     "data": {
      "image/png": "[encoded data removed]",
      "text/plain": [
       "<Figure size 432x288 with 1 Axes>"
      ]
     },
     "metadata": {
      "needs_background": "light"
     },
     "output_type": "display_data"
    }
   ],
   "source": [
    "model.eval()\n",
    "test_predictions = model(test_data.x, test_data.edge_index)\n",
    "# test_predictions = model(test_data.x)\n",
    "test_predictions_inverse = scalerY.inverse_transform(test_predictions.detach().cpu().numpy())\n",
    "test_Y_inverse = scalerY.inverse_transform(test_Y)\n",
    "prediction_frame = pd.DataFrame(test_predictions_inverse, index=dataset_test.index)\n",
    "# test_2 = pd.concat([pd.DataFrame(test_X.detach().numpy()), pd.DataFrame(test_Y.detach().numpy())], axis=1)\n",
    "result = pd.concat([dataset_test, prediction_frame], axis=1)\n",
    "result.rename(columns={0:'Prediction'},inplace = True)\n",
    "# result = test.join(prediction_frame)\n",
    "# pd.merge(test, prediction_frame, left_index=True)\n",
    "result.to_csv('result_Analysis_MAE.csv')\n",
    "\n",
    "writer = pd.ExcelWriter('result_analysis.xlsx')\n",
    "result.to_excel(writer, 'Sheet1')\n",
    "writer.save()\n",
    "\n",
    "fig = plt.figure()\n",
    "plt.title('Testing Set')\n",
    "plt.scatter(test_Y_inverse, test_predictions_inverse)\n",
    "plt.xlabel('True Values [ACH]')\n",
    "plt.ylabel('Predictions [ACH]')\n",
    "x = np.linspace(-1,1)\n",
    "y = x\n",
    "plt.plot(x, y, '-r', label='y=x')\n",
    "plt.axis('equal')\n",
    "plt.axis('square')\n",
    "# plt.show()\n",
    "fig.set_size_inches(6, 4)\n",
    "fig.savefig('MAE.png', dpi=fig.dpi)\n",
    "# plt.xlim([-0.1, 55])\n",
    "# plt.ylim([-0.1, 55])\n",
    "# _ = plt.plot([-100, 100], [-100, 100])"
   ]
  },
  {
   "cell_type": "code",
   "execution_count": 25,
   "metadata": {
    "id": "9wyhma1NmlRc"
   },
   "outputs": [],
   "source": [
    "def train_and_pred(validation_data, validation_labels):\n",
    "  model.cpu()\n",
    "  preds = model(validation_data.x, validation_data.edge_index)\n",
    "  preds = scalerY.inverse_transform(preds.detach().numpy())\n",
    "  validation_labels['Cp'] = pd.Series(preds[:,0].reshape(1, -1)[0])\n",
    "  submission = pd.concat([validation_labels['Id'], validation_labels['Cp']], axis=1)\n",
    "  submission.to_csv('./Validation Results.csv', index=False)"
   ]
  },
  {
   "cell_type": "code",
   "execution_count": 26,
   "metadata": {
    "id": "2XZzqwbrmvnW"
   },
   "outputs": [],
   "source": [
    "validation_labels = pd.DataFrame(scalerY.inverse_transform(validation_Y.detach().numpy()))\n",
    "validation_labels.columns = ['Id']\n",
    "train_and_pred(val_data, validation_labels)"
   ]
  },
  {
   "cell_type": "code",
   "execution_count": 27,
   "metadata": {
    "colab": {
     "base_uri": "https://localhost:8080/",
     "height": 571
    },
    "id": "Pi30P1_QYD6Z",
    "outputId": "03e74689-0f5d-43e3-b73a-9fe5414794fa"
   },
   "outputs": [
    {
     "ename": "KeyError",
     "evalue": "'W1 Cp'",
     "output_type": "error",
     "traceback": [
      "\u001b[0;31m---------------------------------------------------------------------------\u001b[0m",
      "\u001b[0;31mKeyError\u001b[0m                                  Traceback (most recent call last)",
      "File \u001b[0;32m~/opt/anaconda3/envs/mlds/lib/python3.8/site-packages/pandas/core/indexes/base.py:3621\u001b[0m, in \u001b[0;36mIndex.get_loc\u001b[0;34m(self, key, method, tolerance)\u001b[0m\n\u001b[1;32m   3620\u001b[0m \u001b[39mtry\u001b[39;00m:\n\u001b[0;32m-> 3621\u001b[0m     \u001b[39mreturn\u001b[39;00m \u001b[39mself\u001b[39;49m\u001b[39m.\u001b[39;49m_engine\u001b[39m.\u001b[39;49mget_loc(casted_key)\n\u001b[1;32m   3622\u001b[0m \u001b[39mexcept\u001b[39;00m \u001b[39mKeyError\u001b[39;00m \u001b[39mas\u001b[39;00m err:\n",
      "File \u001b[0;32m~/opt/anaconda3/envs/mlds/lib/python3.8/site-packages/pandas/_libs/index.pyx:136\u001b[0m, in \u001b[0;36mpandas._libs.index.IndexEngine.get_loc\u001b[0;34m()\u001b[0m\n",
      "File \u001b[0;32m~/opt/anaconda3/envs/mlds/lib/python3.8/site-packages/pandas/_libs/index.pyx:163\u001b[0m, in \u001b[0;36mpandas._libs.index.IndexEngine.get_loc\u001b[0;34m()\u001b[0m\n",
      "File \u001b[0;32mpandas/_libs/hashtable_class_helper.pxi:5198\u001b[0m, in \u001b[0;36mpandas._libs.hashtable.PyObjectHashTable.get_item\u001b[0;34m()\u001b[0m\n",
      "File \u001b[0;32mpandas/_libs/hashtable_class_helper.pxi:5206\u001b[0m, in \u001b[0;36mpandas._libs.hashtable.PyObjectHashTable.get_item\u001b[0;34m()\u001b[0m\n",
      "\u001b[0;31mKeyError\u001b[0m: 'W1 Cp'",
      "\nThe above exception was the direct cause of the following exception:\n",
      "\u001b[0;31mKeyError\u001b[0m                                  Traceback (most recent call last)",
      "\u001b[1;32m/Users/kennywu/Documents/NUScode/lkx_gnn/GCN_17_May_的原 copy.ipynb Cell 16\u001b[0m in \u001b[0;36m<cell line: 24>\u001b[0;34m()\u001b[0m\n\u001b[1;32m     <a href='vscode-notebook-cell:/Users/kennywu/Documents/NUScode/lkx_gnn/GCN_17_May_%E7%9A%84%E5%8E%9F%20copy.ipynb#X11sZmlsZQ%3D%3D?line=21'>22</a>\u001b[0m MAE \u001b[39m=\u001b[39m pd\u001b[39m.\u001b[39mread_csv(\u001b[39m'\u001b[39m\u001b[39mresult_Analysis_MAE.csv\u001b[39m\u001b[39m'\u001b[39m)\n\u001b[1;32m     <a href='vscode-notebook-cell:/Users/kennywu/Documents/NUScode/lkx_gnn/GCN_17_May_%E7%9A%84%E5%8E%9F%20copy.ipynb#X11sZmlsZQ%3D%3D?line=22'>23</a>\u001b[0m \u001b[39m# ACH_MAE = MAE['ACH']\u001b[39;00m\n\u001b[0;32m---> <a href='vscode-notebook-cell:/Users/kennywu/Documents/NUScode/lkx_gnn/GCN_17_May_%E7%9A%84%E5%8E%9F%20copy.ipynb#X11sZmlsZQ%3D%3D?line=23'>24</a>\u001b[0m ACH_MAE \u001b[39m=\u001b[39m MAE[\u001b[39m'\u001b[39;49m\u001b[39mW1 Cp\u001b[39;49m\u001b[39m'\u001b[39;49m]\n\u001b[1;32m     <a href='vscode-notebook-cell:/Users/kennywu/Documents/NUScode/lkx_gnn/GCN_17_May_%E7%9A%84%E5%8E%9F%20copy.ipynb#X11sZmlsZQ%3D%3D?line=24'>25</a>\u001b[0m PRED_MAE \u001b[39m=\u001b[39m MAE[\u001b[39m'\u001b[39m\u001b[39mPrediction\u001b[39m\u001b[39m'\u001b[39m]\n\u001b[1;32m     <a href='vscode-notebook-cell:/Users/kennywu/Documents/NUScode/lkx_gnn/GCN_17_May_%E7%9A%84%E5%8E%9F%20copy.ipynb#X11sZmlsZQ%3D%3D?line=25'>26</a>\u001b[0m absolute_diff_MAE \u001b[39m=\u001b[39m \u001b[39mabs\u001b[39m(ACH_MAE\u001b[39m-\u001b[39mPRED_MAE)\n",
      "File \u001b[0;32m~/opt/anaconda3/envs/mlds/lib/python3.8/site-packages/pandas/core/frame.py:3505\u001b[0m, in \u001b[0;36mDataFrame.__getitem__\u001b[0;34m(self, key)\u001b[0m\n\u001b[1;32m   3503\u001b[0m \u001b[39mif\u001b[39;00m \u001b[39mself\u001b[39m\u001b[39m.\u001b[39mcolumns\u001b[39m.\u001b[39mnlevels \u001b[39m>\u001b[39m \u001b[39m1\u001b[39m:\n\u001b[1;32m   3504\u001b[0m     \u001b[39mreturn\u001b[39;00m \u001b[39mself\u001b[39m\u001b[39m.\u001b[39m_getitem_multilevel(key)\n\u001b[0;32m-> 3505\u001b[0m indexer \u001b[39m=\u001b[39m \u001b[39mself\u001b[39;49m\u001b[39m.\u001b[39;49mcolumns\u001b[39m.\u001b[39;49mget_loc(key)\n\u001b[1;32m   3506\u001b[0m \u001b[39mif\u001b[39;00m is_integer(indexer):\n\u001b[1;32m   3507\u001b[0m     indexer \u001b[39m=\u001b[39m [indexer]\n",
      "File \u001b[0;32m~/opt/anaconda3/envs/mlds/lib/python3.8/site-packages/pandas/core/indexes/base.py:3623\u001b[0m, in \u001b[0;36mIndex.get_loc\u001b[0;34m(self, key, method, tolerance)\u001b[0m\n\u001b[1;32m   3621\u001b[0m     \u001b[39mreturn\u001b[39;00m \u001b[39mself\u001b[39m\u001b[39m.\u001b[39m_engine\u001b[39m.\u001b[39mget_loc(casted_key)\n\u001b[1;32m   3622\u001b[0m \u001b[39mexcept\u001b[39;00m \u001b[39mKeyError\u001b[39;00m \u001b[39mas\u001b[39;00m err:\n\u001b[0;32m-> 3623\u001b[0m     \u001b[39mraise\u001b[39;00m \u001b[39mKeyError\u001b[39;00m(key) \u001b[39mfrom\u001b[39;00m \u001b[39merr\u001b[39;00m\n\u001b[1;32m   3624\u001b[0m \u001b[39mexcept\u001b[39;00m \u001b[39mTypeError\u001b[39;00m:\n\u001b[1;32m   3625\u001b[0m     \u001b[39m# If we have a listlike key, _check_indexing_error will raise\u001b[39;00m\n\u001b[1;32m   3626\u001b[0m     \u001b[39m#  InvalidIndexError. Otherwise we fall through and re-raise\u001b[39;00m\n\u001b[1;32m   3627\u001b[0m     \u001b[39m#  the TypeError.\u001b[39;00m\n\u001b[1;32m   3628\u001b[0m     \u001b[39mself\u001b[39m\u001b[39m.\u001b[39m_check_indexing_error(key)\n",
      "\u001b[0;31mKeyError\u001b[0m: 'W1 Cp'"
     ]
    }
   ],
   "source": [
    "import numpy as np\n",
    "import matplotlib.pyplot as plt\n",
    "import pandas as pd\n",
    "\n",
    "def drawComparison (ACH, PRED):\n",
    "    fig = plt.figure()\n",
    "    plt.title('Testing Set', FontSize=24)\n",
    "    plt.scatter(ACH, PRED)\n",
    "    plt.xlabel('True Values [ACH]', FontSize=24)\n",
    "    plt.ylabel('Predictions [ACH]', FontSize=24)\n",
    "    plt.xticks(fontsize=20)\n",
    "    plt.yticks(fontsize=20)\n",
    "    x = np.linspace(-5,60,20)\n",
    "    y = x\n",
    "    plt.plot(x, y, '-r', label='y=x')\n",
    "    plt.axis('equal')\n",
    "    plt.axis('square')\n",
    "\n",
    "    fig.set_size_inches(16, 9)\n",
    "    fig.savefig('comparison', dpi=fig.dpi)\n",
    "\n",
    "MAE = pd.read_csv('result_Analysis_MAE.csv')\n",
    "# ACH_MAE = MAE['ACH']\n",
    "ACH_MAE = MAE['W1 Cp']\n",
    "PRED_MAE = MAE['Prediction']\n",
    "absolute_diff_MAE = abs(ACH_MAE-PRED_MAE)\n",
    "absolute_percentage_diff_MAE = abs(ACH_MAE-PRED_MAE)/abs(ACH_MAE)\n",
    "drawComparison(ACH_MAE, PRED_MAE)\n",
    "\n",
    "# Rating_GT = MAE['ACH']\n",
    "# Rating_Pred = MAE['ACH']\n",
    "# is_equal = MAE['ACH']\n",
    "Rating_GT = MAE['W1 Cp']\n",
    "Rating_Pred = MAE['W1 Cp']\n",
    "is_equal = MAE['W1 Cp']\n",
    "\n",
    "Output = pd.concat([ACH_MAE, PRED_MAE, absolute_diff_MAE, \n",
    "                    absolute_percentage_diff_MAE, Rating_GT, Rating_Pred, is_equal],axis=1,ignore_index=True)\n",
    "# Output.columns=['ACH','PRED_MAE','absolute_diff_MAE',\n",
    "                              # 'absolute_percentage_diff_MAE','Rating_GT', 'Rating_Pred']\n",
    "\n",
    "Output.columns=['ACH','PRED_MAE','absolute_diff_MAE',\n",
    "                              'absolute_percentage_diff_MAE','Rating_GT', 'Rating_Pred','is_equal']\n",
    "\n",
    "# Output.loc[Output['ACH'] <=5, 'Rating_GT'] = 0\n",
    "# Output.loc[(Output['ACH'] >5) & (Output['ACH'] <=10), 'Rating_GT'] = 1\n",
    "# Output.loc[(Output['ACH'] >10) & (Output['ACH'] <=30), 'Rating_GT'] = 2\n",
    "# Output.loc[(Output['ACH'] >30) & (Output['ACH'] <=70), 'Rating_GT'] = 3\n",
    "# # Output.loc[(Output['ACH'] >44) & (Output['ACH'] <=70), 'Rating_GT'] = 4\n",
    "# Output.loc[Output['ACH'] >70, 'Rating_GT'] = 4\n",
    "\n",
    "# Output.loc[Output['PRED_MAE'] <=5, 'Rating_Pred'] = 0\n",
    "# Output.loc[(Output['PRED_MAE'] >5) & (Output['PRED_MAE'] <=10), 'Rating_Pred'] = 1\n",
    "# Output.loc[(Output['PRED_MAE'] >10) & (Output['PRED_MAE'] <=30), 'Rating_Pred'] = 2\n",
    "# Output.loc[(Output['PRED_MAE'] >30) & (Output['PRED_MAE'] <=70), 'Rating_Pred'] = 3\n",
    "# # Output.loc[(Output['PRED_MAE'] >44) & (Output['PRED_MAE'] <=70), 'Rating_Pred'] = 4\n",
    "# Output.loc[Output['PRED_MAE'] >70, 'Rating_Pred'] = 4\n",
    "\n",
    "# Output.loc[Output['ACH'] <=4, 'Rating_GT'] = 0\n",
    "# Output.loc[(Output['ACH'] >4) & (Output['ACH'] <=8), 'Rating_GT'] = 1\n",
    "# Output.loc[(Output['ACH'] >8) & (Output['ACH'] <=16), 'Rating_GT'] = 2\n",
    "# Output.loc[Output['ACH'] >16, 'Rating_GT'] = 3\n",
    "# Output.loc[Output['PRED_MAE'] <=4, 'Rating_Pred'] = 0\n",
    "# Output.loc[(Output['PRED_MAE'] >4) & (Output['PRED_MAE'] <=8), 'Rating_Pred'] = 1\n",
    "# Output.loc[(Output['PRED_MAE'] >8) & (Output['PRED_MAE'] <=16), 'Rating_Pred'] = 2\n",
    "# Output.loc[Output['PRED_MAE'] >16, 'Rating_Pred'] = 3\n",
    "\n",
    "# Output.loc[Output['Rating_GT'] == Output['Rating_Pred'], 'is equal'] = 1\n",
    "# count_Pred = Output['Rating_Pred'].value_counts()\n",
    "# count_GT = Output['Rating_GT'].value_counts()\n",
    "\n",
    "Output.to_csv('PaperResult.csv')"
   ]
  },
  {
   "cell_type": "code",
   "execution_count": null,
   "metadata": {
    "colab": {
     "base_uri": "https://localhost:8080/",
     "height": 234
    },
    "id": "phu-LiQNbEIR",
    "outputId": "af40b5e3-15e5-4cf1-8a53-3d13c52ab9aa"
   },
   "outputs": [
    {
     "ename": "NameError",
     "evalue": "ignored",
     "output_type": "error",
     "traceback": [
      "\u001b[0;31m---------------------------------------------------------------------------\u001b[0m",
      "\u001b[0;31mNameError\u001b[0m                                 Traceback (most recent call last)",
      "\u001b[0;32m<ipython-input-9-62ab9ad6b08e>\u001b[0m in \u001b[0;36m<module>\u001b[0;34m()\u001b[0m\n\u001b[1;32m      1\u001b[0m \u001b[0mtrue_count\u001b[0m \u001b[0;34m=\u001b[0m \u001b[0;36m0\u001b[0m\u001b[0;34m\u001b[0m\u001b[0;34m\u001b[0m\u001b[0m\n\u001b[0;32m----> 2\u001b[0;31m \u001b[0mtotal_count\u001b[0m \u001b[0;34m=\u001b[0m \u001b[0mlen\u001b[0m\u001b[0;34m(\u001b[0m\u001b[0mOutput\u001b[0m\u001b[0;34m[\u001b[0m\u001b[0;34m'Rating_GT'\u001b[0m\u001b[0;34m]\u001b[0m\u001b[0;34m)\u001b[0m\u001b[0;34m\u001b[0m\u001b[0;34m\u001b[0m\u001b[0m\n\u001b[0m\u001b[1;32m      3\u001b[0m \u001b[0;32mfor\u001b[0m \u001b[0mi\u001b[0m \u001b[0;32min\u001b[0m \u001b[0mrange\u001b[0m\u001b[0;34m(\u001b[0m\u001b[0mtotal_count\u001b[0m\u001b[0;34m)\u001b[0m\u001b[0;34m:\u001b[0m\u001b[0;34m\u001b[0m\u001b[0;34m\u001b[0m\u001b[0m\n\u001b[1;32m      4\u001b[0m   \u001b[0;32mif\u001b[0m \u001b[0mOutput\u001b[0m\u001b[0;34m[\u001b[0m\u001b[0;34m'Rating_GT'\u001b[0m\u001b[0;34m]\u001b[0m\u001b[0;34m.\u001b[0m\u001b[0miloc\u001b[0m\u001b[0;34m[\u001b[0m\u001b[0mi\u001b[0m\u001b[0;34m]\u001b[0m \u001b[0;34m==\u001b[0m \u001b[0mOutput\u001b[0m\u001b[0;34m[\u001b[0m\u001b[0;34m'Rating_Pred'\u001b[0m\u001b[0;34m]\u001b[0m\u001b[0;34m.\u001b[0m\u001b[0miloc\u001b[0m\u001b[0;34m[\u001b[0m\u001b[0mi\u001b[0m\u001b[0;34m]\u001b[0m\u001b[0;34m:\u001b[0m\u001b[0;34m\u001b[0m\u001b[0;34m\u001b[0m\u001b[0m\n\u001b[1;32m      5\u001b[0m     \u001b[0mtrue_count\u001b[0m \u001b[0;34m+=\u001b[0m \u001b[0;36m1\u001b[0m\u001b[0;34m\u001b[0m\u001b[0;34m\u001b[0m\u001b[0m\n",
      "\u001b[0;31mNameError\u001b[0m: name 'Output' is not defined"
     ]
    }
   ],
   "source": [
    "true_count = 0\n",
    "total_count = len(Output['Rating_GT'])\n",
    "for i in range(total_count):\n",
    "  if Output['Rating_GT'].iloc[i] == Output['Rating_Pred'].iloc[i]:\n",
    "    true_count += 1\n",
    "true_percent = true_count/total_count\n",
    "\n",
    "print(true_percent)"
   ]
  }
 ],
 "metadata": {
  "accelerator": "GPU",
  "colab": {
   "collapsed_sections": [],
   "history_visible": true,
   "name": "GCN 17 May_.ipynb",
   "provenance": []
  },
  "kernelspec": {
   "display_name": "Python 3 (ipykernel)",
   "language": "python",
   "name": "python3"
  },
  "language_info": {
   "codemirror_mode": {
    "name": "ipython",
    "version": 3
   },
   "file_extension": ".py",
   "mimetype": "text/x-python",
   "name": "python",
   "nbconvert_exporter": "python",
   "pygments_lexer": "ipython3",
   "version": "3.8.0"
  },
  "vscode": {
   "interpreter": {
    "hash": "8eb7b885f2208ae6b54ba7042d7c707c6e996b7bcbec7b4929157dd301d245e1"
   }
  }
 },
 "nbformat": 4,
 "nbformat_minor": 1
}

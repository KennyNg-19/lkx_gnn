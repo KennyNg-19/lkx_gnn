{
  "cells": [
    {
      "cell_type": "code",
      "execution_count": 1,
      "metadata": {
        "colab": {
          "base_uri": "https://localhost:8080/"
        },
        "id": "VvwNJ0udXw2-",
        "outputId": "276b52bd-af9a-4206-e72b-af1b64a210c3"
      },
      "outputs": [
        {
          "name": "stdout",
          "output_type": "stream",
          "text": [
            "1.12.0\n"
          ]
        }
      ],
      "source": [
        "\n",
        "\n",
        "# !pip install -q torch-scatter -f https://data.pyg.org/whl/torch-${TORCH}.html\n",
        "# !pip install -q torch-sparse -f https://data.pyg.org/whl/torch-${TORCH}.html\n",
        "# !pip install -q git+https://github.com/pyg-team/pytorch_geometric.git"
      ]
    },
    {
      "cell_type": "code",
      "execution_count": 6,
      "metadata": {
        "id": "o8SVAIR6yJB6"
      },
      "outputs": [
        {
          "name": "stdout",
          "output_type": "stream",
          "text": [
            "1.12.0\n"
          ]
        }
      ],
      "source": [
        "# from __future__ import absolute_import, division, print_function\n",
        "\n",
        "# system libs\n",
        "# import time\n",
        "# t0 = time.clock()\n",
        "import os\n",
        "# import pathlib\n",
        "\n",
        "# data science libs\n",
        "from sklearn.preprocessing import StandardScaler\n",
        "import numpy as np\n",
        "import matplotlib.pyplot as plt\n",
        "import pandas as pd\n",
        "# import seaborn as sns\n",
        "\n",
        "# deep learning/AI libs\n",
        "# import keras\n",
        "# from keras import backend as K\n",
        "\n",
        "import torch\n",
        "os.environ['TORCH'] = torch.__version__\n",
        "print(torch.__version__)\n",
        "\n",
        "import torch.nn.functional as F\n",
        "import torch.nn as nn\n",
        "from torch.nn import Linear, ReLU\n",
        "\n",
        "from torch_geometric.nn import GCNConv, GATv2Conv, GATConv, SAGEConv\n",
        "from torch_geometric.data import Data\n",
        "# from torch_geometric.nn import global_mean_pool\n"
      ]
    },
    {
      "cell_type": "markdown",
      "metadata": {},
      "source": [
        "## Data & preprocess"
      ]
    },
    {
      "cell_type": "code",
      "execution_count": 7,
      "metadata": {
        "id": "xYtCdaAryZxC"
      },
      "outputs": [],
      "source": [
        "Edges_train = pd.read_excel('graph10.xlsx', sheet_name= 'Sheet2')\n",
        "Edges_test = pd.read_excel('graph10.xlsx', sheet_name= 'Sheet4')\n",
        "Edges_validation = pd.read_excel('graph10.xlsx', sheet_name= 'Sheet6')\n",
        "\n",
        "dataset_train = pd.read_excel('graph10.xlsx', sheet_name= 'Train2')\n",
        "dataset_test = pd.read_excel('graph10.xlsx', sheet_name = 'Test2')\n",
        "dataset_validation = pd.read_excel('graph10.xlsx', sheet_name= 'Validation')\n",
        "\n",
        "#one_hot_cols = pd.get_dummies(dataset_train['Flat Type'], prefix='Flat')\n",
        "#dataset_train = dataset_train.drop(columns=['Flat Type'])\n",
        "#dataset_train = pd.concat([one_hot_cols, dataset_train], axis=1)\n",
        "\n",
        "#one_hot_cols = pd.get_dummies(dataset_test['Flat Type'], prefix='Flat')\n",
        "#dataset_test = dataset_test.drop(columns=['Flat Type'])\n",
        "#dataset_test = pd.concat([one_hot_cols, dataset_test], axis=1)\n",
        "\n",
        "#one_hot_cols = pd.get_dummies(dataset_train['Room Type'], prefix='Room')\n",
        "#dataset_train = dataset_train.drop(columns=['Room Type'])\n",
        "#dataset_train = pd.concat([one_hot_cols, dataset_train], axis=1)\n",
        "\n",
        "#one_hot_cols = pd.get_dummies(dataset_test['Room Type'], prefix='Room')\n",
        "#dataset_test = dataset_test.drop(columns=['Room Type'])\n",
        "#dataset_test = pd.concat([one_hot_cols, dataset_test], axis=1)\n",
        "\n",
        "# one_hot_cols = pd.get_dummies(dataset_train['Wing Orientation'], prefix='Wing')\n",
        "# dataset_train = dataset_train.drop(columns=['Wing Orientation'])\n",
        "# dataset_train = pd.concat([one_hot_cols, dataset_train], axis=1)\n",
        "\n",
        "# one_hot_cols = pd.get_dummies(dataset_test['Wing Orientation'], prefix='Wing')\n",
        "# dataset_test = dataset_test.drop(columns=['Wing Orientation'])\n",
        "# dataset_test = pd.concat([one_hot_cols, dataset_test], axis=1)\n",
        "\n",
        "# one_hot_cols = pd.get_dummies(dataset_train['Flat Orientation'], prefix='Flat Orientation')\n",
        "# dataset_train = dataset_train.drop(columns=['Flat Orientation'])\n",
        "# dataset_train = pd.concat([one_hot_cols, dataset_train], axis=1)\n",
        "\n",
        "# one_hot_cols = pd.get_dummies(dataset_test['Flat Orientation'], prefix='Flat Orientation')\n",
        "# dataset_test = dataset_test.drop(columns=['Flat Orientation'])\n",
        "# dataset_test = pd.concat([one_hot_cols, dataset_test], axis=1)\n",
        "\n",
        "dataset_train.fillna(0, inplace=True)\n",
        "dataset_test.fillna(0, inplace=True)\n",
        "dataset_validation.fillna(0, inplace=True)\n",
        "\n",
        "train_X = dataset_train.iloc[0:, :15]\n",
        "train_Y = dataset_train.iloc[0:, 15:]\n",
        "\n",
        "test_X = dataset_test.iloc[0:, :15]\n",
        "test_Y = dataset_test.iloc[0:, 15:]\n",
        "\n",
        "validation_X = dataset_validation.iloc[0:, :15]\n",
        "validation_Y = dataset_validation.iloc[0:, 15:]\n",
        "\n",
        "scalerX = StandardScaler().fit(train_X)\n",
        "scalerY = StandardScaler().fit(train_Y)\n",
        "train_X = scalerX.transform(train_X)\n",
        "train_Y = scalerY.transform(train_Y)\n",
        "test_X = scalerX.transform(test_X)\n",
        "test_Y = scalerY.transform(test_Y)\n",
        "\n",
        "validation_X = scalerX.transform(validation_X)\n",
        "validation_Y = scalerY.transform(validation_Y)\n",
        "\n",
        "edges_train = Edges_train.values - 1\n",
        "edges_train = torch.from_numpy(edges_train).t()\n",
        "edges_train = edges_train.long()\n",
        "\n",
        "edges_test = Edges_test.values - 1\n",
        "edges_test = torch.from_numpy(edges_test).t()\n",
        "edges_test = edges_test.long()\n",
        "\n",
        "edges_validation = Edges_validation.values - 1\n",
        "edges_validation = torch.from_numpy(edges_validation).t()\n",
        "edges_validation = edges_validation.long()\n",
        "\n",
        "train = pd.concat([pd.DataFrame(train_X), pd.DataFrame(train_Y)], axis=1)\n",
        "test = pd.concat([pd.DataFrame(test_X), pd.DataFrame(test_Y)], axis=1)\n",
        "validation = pd.concat([pd.DataFrame(validation_X), pd.DataFrame(validation_Y)], axis=1)\n",
        "\n",
        "train_X = torch.tensor(np.array(train_X.astype('f')))\n",
        "train_Y = torch.tensor(np.array(train_Y.astype('f')))\n",
        "\n",
        "test_X = torch.tensor(np.array(test_X.astype('f')))\n",
        "test_Y = torch.tensor(np.array(test_Y.astype('f')))\n",
        "\n",
        "validation_X = torch.tensor(np.array(validation_X.astype('f')))\n",
        "validation_Y = torch.tensor(np.array(validation_Y.astype('f')))\n",
        "\n",
        "\n",
        "train_data = Data(x = train_X, edge_index = edges_train, y = train_Y)\n",
        "test_data = Data(x = test_X, edge_index = edges_test, y = test_Y)\n",
        "validation_data = Data(x = validation_X, edge_index = edges_validation, y = validation_Y)\n",
        "\n",
        "# ACH_MEAN = dataset_train.ACH.mean()\n",
        "# ACH_var = dataset_train.ACH.var()\n",
        "# ACH_Min = dataset_train.ACH.min()\n",
        "# ACH_Max = dataset_train.ACH.max()\n",
        "# CP_MEAN = dataset_train.CP.mean()\n",
        "# CP_var = dataset_train.CP.var()\n",
        "# CP_Min = dataset_train.CP.min()\n",
        "# CP_Max = dataset_train.CP.max()\n",
        "\n",
        "\n",
        "train_Y_mean = train_Y.mean()\n",
        "train_Y_var = train_Y.var()\n"
      ]
    },
    {
      "cell_type": "markdown",
      "metadata": {},
      "source": [
        "## Model Defi.\n",
        "\n",
        "### Model class"
      ]
    },
    {
      "cell_type": "code",
      "execution_count": 10,
      "metadata": {
        "colab": {
          "base_uri": "https://localhost:8080/",
          "height": 1000
        },
        "id": "mNasaxEoX0rM",
        "outputId": "19932ca9-aeb9-4a14-c34f-6a994ee95050"
      },
      "outputs": [],
      "source": [
        "\n",
        "\n",
        "class GCN(torch.nn.Module):\n",
        "    def __init__(self, hidden_channels):\n",
        "        super().__init__()\n",
        "        torch.manual_seed(1234567)\n",
        "        self.conv1 = GCNConv(21, hidden_channels)\n",
        "        self.conv2 = GCNConv(hidden_channels, 112)\n",
        "        # self.conv2 = GCNConv(hidden_channels, 50)\n",
        "        # self.lin1 = Linear(50,256)\n",
        "        self.lin2 = Linear(112,256)\n",
        "        self.lin3 = Linear(256,100)\n",
        "        self.lin4 = Linear(100,1)\n",
        "\n",
        "        self.bnm1 = nn.BatchNorm1d(112, momentum=0.1)\n",
        "        self.bnm2 = nn.BatchNorm1d(256, momentum=0.1)\n",
        "        self.bnm3 = nn.BatchNorm1d(100, momentum=0.1)\n",
        "        self.dropout = nn.Dropout(0.3)\n",
        "\n",
        "    def forward(self, x, edge_index):\n",
        "        x = self.conv1(x, edge_index)\n",
        "        x = x.relu()\n",
        "        # x = F.dropout(x, p=0.1, training=self.training)\n",
        "        # x = self.dropout(x)\n",
        "        x = self.conv2(x, edge_index)\n",
        "        # x = self.lin1(x)\n",
        "        x = self.bnm1(x)\n",
        "        x = x.relu()\n",
        "        x = self.dropout(x)\n",
        "        x = self.lin2(x)\n",
        "        x = self.bnm2(x)\n",
        "        x = x.relu()\n",
        "        x = self.lin3(x)\n",
        "        x = self.bnm3(x)\n",
        "        x = x.relu()\n",
        "        x = self.lin4(x)  \n",
        "        return x\n",
        "\n",
        "class GCN1(torch.nn.Module):\n",
        "    def __init__(self):\n",
        "        super().__init__()\n",
        "        torch.manual_seed(1234567)\n",
        "        self.conv1 = GCNConv(15, 150)\n",
        "        self.conv2 = GCNConv(150, 200)\n",
        "        self.lin2 = Linear(200,400)\n",
        "        self.lin3 = Linear(400,200)\n",
        "        self.lin4 = Linear(200,1)\n",
        "\n",
        "        self.pool1 = nn.MaxPool2d(2,2)\n",
        "\n",
        "        self.bnm1 = nn.BatchNorm1d(200, momentum=0.1)\n",
        "        self.bnm2 = nn.BatchNorm1d(400, momentum=0.1)\n",
        "        self.bnm3 = nn.BatchNorm1d(200, momentum=0.1)\n",
        "        self.dropout = nn.Dropout(0.3)\n",
        "\n",
        "    def forward(self, x, edge_index):\n",
        "        x = self.conv1(x, edge_index)\n",
        "        x = x.relu()\n",
        "        # x = F.dropout(x, p=0.1, training=self.training)\n",
        "        x = self.conv2(x, edge_index)\n",
        "        # x = self.lin1(x)\n",
        "        x = self.bnm1(x)\n",
        "        x = x.relu()\n",
        "        x = self.dropout(x)\n",
        "        x = self.lin2(x)\n",
        "        x = self.bnm2(x)\n",
        "        x = x.relu()\n",
        "        # x = self.dropout(x)\n",
        "        x = self.lin3(x)\n",
        "        x = self.bnm3(x)\n",
        "        x = x.relu()\n",
        "        x = self.lin4(x)  \n",
        "        return x\n",
        "\n"
      ]
    },
    {
      "cell_type": "code",
      "execution_count": 11,
      "metadata": {},
      "outputs": [
        {
          "ename": "AssertionError",
          "evalue": "Torch not compiled with CUDA enabled",
          "output_type": "error",
          "traceback": [
            "\u001b[0;31m---------------------------------------------------------------------------\u001b[0m",
            "\u001b[0;31mAssertionError\u001b[0m                            Traceback (most recent call last)",
            "\u001b[1;32m/Users/kennywu/Documents/NUScode/lkx_gnn/GCN_17_May_的原 copy.ipynb Cell 7\u001b[0m in \u001b[0;36m<cell line: 76>\u001b[0;34m()\u001b[0m\n\u001b[1;32m     <a href='vscode-notebook-cell:/Users/kennywu/Documents/NUScode/lkx_gnn/GCN_17_May_%E7%9A%84%E5%8E%9F%20copy.ipynb#X15sZmlsZQ%3D%3D?line=77'>78</a>\u001b[0m Test_loss \u001b[39m=\u001b[39m test()\n\u001b[1;32m     <a href='vscode-notebook-cell:/Users/kennywu/Documents/NUScode/lkx_gnn/GCN_17_May_%E7%9A%84%E5%8E%9F%20copy.ipynb#X15sZmlsZQ%3D%3D?line=78'>79</a>\u001b[0m model\u001b[39m.\u001b[39meval()\n\u001b[0;32m---> <a href='vscode-notebook-cell:/Users/kennywu/Documents/NUScode/lkx_gnn/GCN_17_May_%E7%9A%84%E5%8E%9F%20copy.ipynb#X15sZmlsZQ%3D%3D?line=79'>80</a>\u001b[0m test_data\u001b[39m.\u001b[39;49mto(\u001b[39m\"\u001b[39;49m\u001b[39mcuda:0\u001b[39;49m\u001b[39m\"\u001b[39;49m)\n\u001b[1;32m     <a href='vscode-notebook-cell:/Users/kennywu/Documents/NUScode/lkx_gnn/GCN_17_May_%E7%9A%84%E5%8E%9F%20copy.ipynb#X15sZmlsZQ%3D%3D?line=80'>81</a>\u001b[0m train_data\u001b[39m.\u001b[39mto(\u001b[39m\"\u001b[39m\u001b[39mcuda:0\u001b[39m\u001b[39m\"\u001b[39m)\n\u001b[1;32m     <a href='vscode-notebook-cell:/Users/kennywu/Documents/NUScode/lkx_gnn/GCN_17_May_%E7%9A%84%E5%8E%9F%20copy.ipynb#X15sZmlsZQ%3D%3D?line=81'>82</a>\u001b[0m \u001b[39m#test_predictions = model(test_data.x)\u001b[39;00m\n",
            "File \u001b[0;32m~/opt/anaconda3/envs/mlds/lib/python3.8/site-packages/torch_geometric/data/data.py:251\u001b[0m, in \u001b[0;36mBaseData.to\u001b[0;34m(self, device, non_blocking, *args)\u001b[0m\n\u001b[1;32m    247\u001b[0m \u001b[39mdef\u001b[39;00m \u001b[39mto\u001b[39m(\u001b[39mself\u001b[39m, device: Union[\u001b[39mint\u001b[39m, \u001b[39mstr\u001b[39m], \u001b[39m*\u001b[39margs: List[\u001b[39mstr\u001b[39m],\n\u001b[1;32m    248\u001b[0m        non_blocking: \u001b[39mbool\u001b[39m \u001b[39m=\u001b[39m \u001b[39mFalse\u001b[39;00m):\n\u001b[1;32m    249\u001b[0m     \u001b[39mr\u001b[39m\u001b[39m\"\"\"Performs tensor device conversion, either for all attributes or\u001b[39;00m\n\u001b[1;32m    250\u001b[0m \u001b[39m    only the ones given in :obj:`*args`.\"\"\"\u001b[39;00m\n\u001b[0;32m--> 251\u001b[0m     \u001b[39mreturn\u001b[39;00m \u001b[39mself\u001b[39;49m\u001b[39m.\u001b[39;49mapply(\n\u001b[1;32m    252\u001b[0m         \u001b[39mlambda\u001b[39;49;00m x: x\u001b[39m.\u001b[39;49mto(device\u001b[39m=\u001b[39;49mdevice, non_blocking\u001b[39m=\u001b[39;49mnon_blocking), \u001b[39m*\u001b[39;49margs)\n",
            "File \u001b[0;32m~/opt/anaconda3/envs/mlds/lib/python3.8/site-packages/torch_geometric/data/data.py:234\u001b[0m, in \u001b[0;36mBaseData.apply\u001b[0;34m(self, func, *args)\u001b[0m\n\u001b[1;32m    231\u001b[0m \u001b[39mr\u001b[39m\u001b[39m\"\"\"Applies the function :obj:`func`, either to all attributes or only\u001b[39;00m\n\u001b[1;32m    232\u001b[0m \u001b[39mthe ones given in :obj:`*args`.\"\"\"\u001b[39;00m\n\u001b[1;32m    233\u001b[0m \u001b[39mfor\u001b[39;00m store \u001b[39min\u001b[39;00m \u001b[39mself\u001b[39m\u001b[39m.\u001b[39mstores:\n\u001b[0;32m--> 234\u001b[0m     store\u001b[39m.\u001b[39;49mapply(func, \u001b[39m*\u001b[39;49margs)\n\u001b[1;32m    235\u001b[0m \u001b[39mreturn\u001b[39;00m \u001b[39mself\u001b[39m\n",
            "File \u001b[0;32m~/opt/anaconda3/envs/mlds/lib/python3.8/site-packages/torch_geometric/data/storage.py:159\u001b[0m, in \u001b[0;36mBaseStorage.apply\u001b[0;34m(self, func, *args)\u001b[0m\n\u001b[1;32m    156\u001b[0m \u001b[39mr\u001b[39m\u001b[39m\"\"\"Applies the function :obj:`func`, either to all attributes or only\u001b[39;00m\n\u001b[1;32m    157\u001b[0m \u001b[39mthe ones given in :obj:`*args`.\"\"\"\u001b[39;00m\n\u001b[1;32m    158\u001b[0m \u001b[39mfor\u001b[39;00m key, value \u001b[39min\u001b[39;00m \u001b[39mself\u001b[39m\u001b[39m.\u001b[39mitems(\u001b[39m*\u001b[39margs):\n\u001b[0;32m--> 159\u001b[0m     \u001b[39mself\u001b[39m[key] \u001b[39m=\u001b[39m recursive_apply(value, func)\n\u001b[1;32m    160\u001b[0m \u001b[39mreturn\u001b[39;00m \u001b[39mself\u001b[39m\n",
            "File \u001b[0;32m~/opt/anaconda3/envs/mlds/lib/python3.8/site-packages/torch_geometric/data/storage.py:510\u001b[0m, in \u001b[0;36mrecursive_apply\u001b[0;34m(data, func)\u001b[0m\n\u001b[1;32m    508\u001b[0m \u001b[39mdef\u001b[39;00m \u001b[39mrecursive_apply\u001b[39m(data: Any, func: Callable) \u001b[39m-\u001b[39m\u001b[39m>\u001b[39m Any:\n\u001b[1;32m    509\u001b[0m     \u001b[39mif\u001b[39;00m \u001b[39misinstance\u001b[39m(data, Tensor):\n\u001b[0;32m--> 510\u001b[0m         \u001b[39mreturn\u001b[39;00m func(data)\n\u001b[1;32m    511\u001b[0m     \u001b[39melif\u001b[39;00m \u001b[39misinstance\u001b[39m(data, torch\u001b[39m.\u001b[39mnn\u001b[39m.\u001b[39mutils\u001b[39m.\u001b[39mrnn\u001b[39m.\u001b[39mPackedSequence):\n\u001b[1;32m    512\u001b[0m         \u001b[39mreturn\u001b[39;00m func(data)\n",
            "File \u001b[0;32m~/opt/anaconda3/envs/mlds/lib/python3.8/site-packages/torch_geometric/data/data.py:252\u001b[0m, in \u001b[0;36mBaseData.to.<locals>.<lambda>\u001b[0;34m(x)\u001b[0m\n\u001b[1;32m    247\u001b[0m \u001b[39mdef\u001b[39;00m \u001b[39mto\u001b[39m(\u001b[39mself\u001b[39m, device: Union[\u001b[39mint\u001b[39m, \u001b[39mstr\u001b[39m], \u001b[39m*\u001b[39margs: List[\u001b[39mstr\u001b[39m],\n\u001b[1;32m    248\u001b[0m        non_blocking: \u001b[39mbool\u001b[39m \u001b[39m=\u001b[39m \u001b[39mFalse\u001b[39;00m):\n\u001b[1;32m    249\u001b[0m     \u001b[39mr\u001b[39m\u001b[39m\"\"\"Performs tensor device conversion, either for all attributes or\u001b[39;00m\n\u001b[1;32m    250\u001b[0m \u001b[39m    only the ones given in :obj:`*args`.\"\"\"\u001b[39;00m\n\u001b[1;32m    251\u001b[0m     \u001b[39mreturn\u001b[39;00m \u001b[39mself\u001b[39m\u001b[39m.\u001b[39mapply(\n\u001b[0;32m--> 252\u001b[0m         \u001b[39mlambda\u001b[39;00m x: x\u001b[39m.\u001b[39;49mto(device\u001b[39m=\u001b[39;49mdevice, non_blocking\u001b[39m=\u001b[39;49mnon_blocking), \u001b[39m*\u001b[39margs)\n",
            "File \u001b[0;32m~/opt/anaconda3/envs/mlds/lib/python3.8/site-packages/torch/cuda/__init__.py:211\u001b[0m, in \u001b[0;36m_lazy_init\u001b[0;34m()\u001b[0m\n\u001b[1;32m    207\u001b[0m     \u001b[39mraise\u001b[39;00m \u001b[39mRuntimeError\u001b[39;00m(\n\u001b[1;32m    208\u001b[0m         \u001b[39m\"\u001b[39m\u001b[39mCannot re-initialize CUDA in forked subprocess. To use CUDA with \u001b[39m\u001b[39m\"\u001b[39m\n\u001b[1;32m    209\u001b[0m         \u001b[39m\"\u001b[39m\u001b[39mmultiprocessing, you must use the \u001b[39m\u001b[39m'\u001b[39m\u001b[39mspawn\u001b[39m\u001b[39m'\u001b[39m\u001b[39m start method\u001b[39m\u001b[39m\"\u001b[39m)\n\u001b[1;32m    210\u001b[0m \u001b[39mif\u001b[39;00m \u001b[39mnot\u001b[39;00m \u001b[39mhasattr\u001b[39m(torch\u001b[39m.\u001b[39m_C, \u001b[39m'\u001b[39m\u001b[39m_cuda_getDeviceCount\u001b[39m\u001b[39m'\u001b[39m):\n\u001b[0;32m--> 211\u001b[0m     \u001b[39mraise\u001b[39;00m \u001b[39mAssertionError\u001b[39;00m(\u001b[39m\"\u001b[39m\u001b[39mTorch not compiled with CUDA enabled\u001b[39m\u001b[39m\"\u001b[39m)\n\u001b[1;32m    212\u001b[0m \u001b[39mif\u001b[39;00m _cudart \u001b[39mis\u001b[39;00m \u001b[39mNone\u001b[39;00m:\n\u001b[1;32m    213\u001b[0m     \u001b[39mraise\u001b[39;00m \u001b[39mAssertionError\u001b[39;00m(\n\u001b[1;32m    214\u001b[0m         \u001b[39m\"\u001b[39m\u001b[39mlibcudart functions unavailable. It looks like you have a broken build?\u001b[39m\u001b[39m\"\u001b[39m)\n",
            "\u001b[0;31mAssertionError\u001b[0m: Torch not compiled with CUDA enabled"
          ]
        }
      ],
      "source": [
        "# hyper params\n",
        "batch_size = 100\n",
        "nb_classes = 1\n",
        "nb_epoch = 1000\n",
        "\n",
        "# 生成模型\n",
        "model = GCN1()\n",
        "\n",
        "# optimizer = torch.optim.Adam(model.parameters(), lr=0.025, weight_decay=1e-4)\n",
        "# 学习算法\n",
        "optimizer = torch.optim.Adam(model.parameters(), lr=0.008, weight_decay=1e-4)\n",
        "\n",
        "# criterion = torch.nn.MSELoss()\n",
        "criterion = torch.nn.HuberLoss(reduction='mean',delta=0.15)\n",
        "\n",
        "'''\n",
        "train1个epoch(all data喂进去一次)\n",
        "'''\n",
        "# 这种写法非常不好，没有入参，等于model或任何其他参数都是在调用 全局变量\n",
        "def train():\n",
        "      # to gpu\n",
        "      # model.to(\"cuda:0\")\n",
        "      # train_data.to(\"cuda:0\")\n",
        "      \n",
        "      # training\n",
        "      model.train()\n",
        "      optimizer.zero_grad()  # Clear gradients.\n",
        "      \n",
        "      # 获取output 待计算loss和优化模型\n",
        "      out = model(train_data.x, train_data.edge_index)\n",
        "      #out = model(train_data.x)\n",
        "      loss = criterion(out, train_data.y)  # Compute the loss solely based on the training nodes.\n",
        "      loss.backward()  # Derive gradients.\n",
        "      \n",
        "      # 优化参数\n",
        "      optimizer.step()  # Update parameters based on gradients.\n",
        "      return loss\n",
        "\n",
        "# lmbd = 0.01\n",
        "# def train():\n",
        "#       model.to(\"cuda:0\")\n",
        "#       train_data.to(\"cuda:0\")\n",
        "#       model.train()\n",
        "#       optimizer.zero_grad()  # Clear gradients.\n",
        "#       out = model(train_data.x, train_data.edge_index)\n",
        "#       #out = model(train_data.x)\n",
        "#       loss = criterion(out, train_data.y)  # Compute the loss solely based on the training nodes.\n",
        "#       reg_loss = None\n",
        "#       for param in model.parameters():\n",
        "#           if reg_loss is None:\n",
        "#               reg_loss = 0.5 * torch.sum(param**2)\n",
        "#           else:\n",
        "#               reg_loss = reg_loss + 0.5 * param.norm(2)**2\n",
        "\n",
        "#       loss += lmbd * reg_loss\n",
        "#       loss.backward()  # Derive gradients.\n",
        "#       optimizer.step()  # Update parameters based on gradients.\n",
        "#       return loss\n",
        "\n",
        "def test():\n",
        "      model.eval()\n",
        "      # test_data.to(\"cuda:0\")\n",
        "      #out = model(test_data.x)\n",
        "      out = model(test_data.x, test_data.edge_index)\n",
        "      loss = criterion(out, test_data.y)\n",
        "      pred = out  # Use the class with highest probability.\n",
        "      # train_correct = abs((pred-test_data.y/test_data.y))< 0.5  # Check against ground-truth labels.\n",
        "      # train_acc = int(train_correct.sum()) / int(len(test_data)) \n",
        "      # loss.backward() \n",
        "      # optimizer.step()\n",
        "      return loss\n",
        "\n",
        "Train_losses = []\n",
        "Test_losses = []\n",
        "\n",
        "for epoch in range(1, 1001):\n",
        "    Train_loss = train()\n",
        "    Test_loss = test()\n",
        "    \n",
        "    model.eval()\n",
        "    test_data.to(\"cuda:0\")\n",
        "    train_data.to(\"cuda:0\")\n",
        "    #test_predictions = model(test_data.x)\n",
        "    test_predictions = model(test_data.x, test_data.edge_index)\n",
        "    train_predictions = model(train_data.x, train_data.edge_index)\n",
        "    # test_predictions_inverse = scalerY.inverse_transform(test_predictions.detach().numpy())\n",
        "    test_correct = abs((test_predictions-test_data.y)/test_predictions) < 0.25  # Check against ground-truth labels.\n",
        "    test_acc = int(test_correct.sum()) / len(test_predictions)\n",
        "    train_correct = abs((train_predictions-train_data.y)/train_predictions) < 0.25  # Check against ground-truth labels.\n",
        "    train_acc = int(train_correct.sum()) / len(train_predictions)\n",
        "    Train_losses.append(Train_loss.detach().cpu().numpy())\n",
        "    Test_losses.append(Test_loss.detach().cpu().numpy())\n",
        "    \n",
        "    print(f'Epoch: {epoch:03d}, Train_Loss: {Train_loss:.4f}, Test_Loss: {Test_loss:.4f}, Train_Acc:{train_acc:.4f}, Test_Acc: {test_acc:.4f}')\n",
        "    # print(f'Epoch: {epoch:03d}, Loss: {loss:.4f}')\n",
        "\n",
        "\n",
        "def draw_loss():\n",
        "  plt.figure()\n",
        "  plt.title('loss',fontsize=24)\n",
        "  plt.plot(Train_losses,'-')\n",
        "  plt.plot(Test_losses,'-')\n",
        "  plt.ylabel('loss')\n",
        "  plt.xlabel('epoch')\n",
        "  plt.legend(['Train','Test'])\n",
        "  plt.show\n",
        "\n",
        "draw_loss()\n"
      ]
    },
    {
      "cell_type": "code",
      "execution_count": null,
      "metadata": {
        "colab": {
          "base_uri": "https://localhost:8080/",
          "height": 295
        },
        "id": "McOBfXHqX5zi",
        "outputId": "46b4515b-6e9c-4dd8-a295-cefe8838bf01"
      },
      "outputs": [
        {
          "data": {
            "image/png": "[encoded data removed]",
            "text/plain": [
              "<Figure size 432x288 with 1 Axes>"
            ]
          },
          "metadata": {
            "needs_background": "light"
          },
          "output_type": "display_data"
        }
      ],
      "source": [
        "model.eval()\n",
        "train_predictions = model(train_data.x, train_data.edge_index)\n",
        "# train_predictions = model(train_data.x)\n",
        "train_predictions_inverse = scalerY.inverse_transform(train_predictions.detach().cpu().numpy())\n",
        "train_Y_inverse = scalerY.inverse_transform(train_Y)\n",
        "prediction_frame = pd.DataFrame(train_predictions_inverse, index=dataset_train.index)\n",
        "test_2 = pd.concat([pd.DataFrame(test_X), pd.DataFrame(train_Y)], axis=1)\n",
        "result = pd.concat([test_2, prediction_frame], axis=1)\n",
        "result.rename(columns={0:'Prediction'},inplace = True)\n",
        "# result = test.join(prediction_frame)\n",
        "# pd.merge(test, prediction_frame, left_index=True)\n",
        "result.to_csv('result_Analysis_MAE_train.csv')\n",
        "\n",
        "writer = pd.ExcelWriter('result_analysis_train.xlsx')\n",
        "result.to_excel(writer, 'Sheet1')\n",
        "writer.save()\n",
        "\n",
        "fig = plt.figure()\n",
        "plt.title('Training Set')\n",
        "plt.scatter(train_Y_inverse, train_predictions_inverse)\n",
        "plt.xlabel('True Values [ACH]')\n",
        "plt.ylabel('Predictions [ACH]')\n",
        "x = np.linspace(-1,1)\n",
        "y = x\n",
        "plt.plot(x, y, '-r', label='y=x')\n",
        "plt.axis('equal')\n",
        "plt.axis('square')\n",
        "# plt.show()\n",
        "fig.set_size_inches(6, 4)\n",
        "fig.savefig('Training set.png', dpi=fig.dpi)\n",
        "# plt.xlim([-0.1, 55])\n",
        "# plt.ylim([-0.1, 55])\n",
        "# _ = plt.plot([-100, 100], [-100, 100])"
      ]
    },
    {
      "cell_type": "code",
      "execution_count": null,
      "metadata": {
        "colab": {
          "base_uri": "https://localhost:8080/",
          "height": 295
        },
        "id": "7dGmrwNlYBHF",
        "outputId": "e804b61f-6aef-415e-f40e-1dbb8dd266c1"
      },
      "outputs": [
        {
          "data": {
            "image/png": "[encoded data removed]",
            "text/plain": [
              "<Figure size 432x288 with 1 Axes>"
            ]
          },
          "metadata": {
            "needs_background": "light"
          },
          "output_type": "display_data"
        }
      ],
      "source": [
        "model.eval()\n",
        "test_predictions = model(test_data.x, test_data.edge_index)\n",
        "# test_predictions = model(test_data.x)\n",
        "test_predictions_inverse = scalerY.inverse_transform(test_predictions.detach().cpu().numpy())\n",
        "test_Y_inverse = scalerY.inverse_transform(test_Y)\n",
        "prediction_frame = pd.DataFrame(test_predictions_inverse, index=dataset_test.index)\n",
        "# test_2 = pd.concat([pd.DataFrame(test_X.detach().numpy()), pd.DataFrame(test_Y.detach().numpy())], axis=1)\n",
        "result = pd.concat([dataset_test, prediction_frame], axis=1)\n",
        "result.rename(columns={0:'Prediction'},inplace = True)\n",
        "# result = test.join(prediction_frame)\n",
        "# pd.merge(test, prediction_frame, left_index=True)\n",
        "result.to_csv('result_Analysis_MAE.csv')\n",
        "\n",
        "writer = pd.ExcelWriter('result_analysis.xlsx')\n",
        "result.to_excel(writer, 'Sheet1')\n",
        "writer.save()\n",
        "\n",
        "fig = plt.figure()\n",
        "plt.title('Testing Set')\n",
        "plt.scatter(test_Y_inverse, test_predictions_inverse)\n",
        "plt.xlabel('True Values [ACH]')\n",
        "plt.ylabel('Predictions [ACH]')\n",
        "x = np.linspace(-1,1)\n",
        "y = x\n",
        "plt.plot(x, y, '-r', label='y=x')\n",
        "plt.axis('equal')\n",
        "plt.axis('square')\n",
        "# plt.show()\n",
        "fig.set_size_inches(6, 4)\n",
        "fig.savefig('MAE.png', dpi=fig.dpi)\n",
        "# plt.xlim([-0.1, 55])\n",
        "# plt.ylim([-0.1, 55])\n",
        "# _ = plt.plot([-100, 100], [-100, 100])"
      ]
    },
    {
      "cell_type": "code",
      "execution_count": null,
      "metadata": {
        "id": "9wyhma1NmlRc"
      },
      "outputs": [],
      "source": [
        "def train_and_pred(validation_data, validation_labels):\n",
        "  model.cpu()\n",
        "  preds = model(validation_data.x, validation_data.edge_index)\n",
        "  preds = scalerY.inverse_transform(preds.detach().numpy())\n",
        "  validation_labels['Cp'] = pd.Series(preds[:,0].reshape(1, -1)[0])\n",
        "  submission = pd.concat([validation_labels['Id'], validation_labels['Cp']], axis=1)\n",
        "  submission.to_csv('./Validation Results.csv', index=False)"
      ]
    },
    {
      "cell_type": "code",
      "execution_count": null,
      "metadata": {
        "id": "2XZzqwbrmvnW"
      },
      "outputs": [],
      "source": [
        "validation_labels = pd.DataFrame(scalerY.inverse_transform(validation_Y.detach().numpy()))\n",
        "validation_labels.columns = ['Id']\n",
        "train_and_pred(validation_data, validation_labels)"
      ]
    },
    {
      "cell_type": "code",
      "execution_count": null,
      "metadata": {
        "colab": {
          "base_uri": "https://localhost:8080/",
          "height": 571
        },
        "id": "Pi30P1_QYD6Z",
        "outputId": "03e74689-0f5d-43e3-b73a-9fe5414794fa"
      },
      "outputs": [
        {
          "ename": "KeyError",
          "evalue": "ignored",
          "output_type": "error",
          "traceback": [
            "\u001b[0;31m---------------------------------------------------------------------------\u001b[0m",
            "\u001b[0;31mKeyError\u001b[0m                                  Traceback (most recent call last)",
            "\u001b[0;32m/usr/local/lib/python3.7/dist-packages/pandas/core/indexes/base.py\u001b[0m in \u001b[0;36mget_loc\u001b[0;34m(self, key, method, tolerance)\u001b[0m\n\u001b[1;32m   3360\u001b[0m             \u001b[0;32mtry\u001b[0m\u001b[0;34m:\u001b[0m\u001b[0;34m\u001b[0m\u001b[0;34m\u001b[0m\u001b[0m\n\u001b[0;32m-> 3361\u001b[0;31m                 \u001b[0;32mreturn\u001b[0m \u001b[0mself\u001b[0m\u001b[0;34m.\u001b[0m\u001b[0m_engine\u001b[0m\u001b[0;34m.\u001b[0m\u001b[0mget_loc\u001b[0m\u001b[0;34m(\u001b[0m\u001b[0mcasted_key\u001b[0m\u001b[0;34m)\u001b[0m\u001b[0;34m\u001b[0m\u001b[0;34m\u001b[0m\u001b[0m\n\u001b[0m\u001b[1;32m   3362\u001b[0m             \u001b[0;32mexcept\u001b[0m \u001b[0mKeyError\u001b[0m \u001b[0;32mas\u001b[0m \u001b[0merr\u001b[0m\u001b[0;34m:\u001b[0m\u001b[0;34m\u001b[0m\u001b[0;34m\u001b[0m\u001b[0m\n",
            "\u001b[0;32m/usr/local/lib/python3.7/dist-packages/pandas/_libs/index.pyx\u001b[0m in \u001b[0;36mpandas._libs.index.IndexEngine.get_loc\u001b[0;34m()\u001b[0m\n",
            "\u001b[0;32m/usr/local/lib/python3.7/dist-packages/pandas/_libs/index.pyx\u001b[0m in \u001b[0;36mpandas._libs.index.IndexEngine.get_loc\u001b[0;34m()\u001b[0m\n",
            "\u001b[0;32mpandas/_libs/hashtable_class_helper.pxi\u001b[0m in \u001b[0;36mpandas._libs.hashtable.PyObjectHashTable.get_item\u001b[0;34m()\u001b[0m\n",
            "\u001b[0;32mpandas/_libs/hashtable_class_helper.pxi\u001b[0m in \u001b[0;36mpandas._libs.hashtable.PyObjectHashTable.get_item\u001b[0;34m()\u001b[0m\n",
            "\u001b[0;31mKeyError\u001b[0m: 'W1 Cp'",
            "\nThe above exception was the direct cause of the following exception:\n",
            "\u001b[0;31mKeyError\u001b[0m                                  Traceback (most recent call last)",
            "\u001b[0;32m<ipython-input-8-845a3b11e011>\u001b[0m in \u001b[0;36m<module>\u001b[0;34m()\u001b[0m\n\u001b[1;32m     22\u001b[0m \u001b[0mMAE\u001b[0m \u001b[0;34m=\u001b[0m \u001b[0mpd\u001b[0m\u001b[0;34m.\u001b[0m\u001b[0mread_csv\u001b[0m\u001b[0;34m(\u001b[0m\u001b[0;34m'result_Analysis_MAE.csv'\u001b[0m\u001b[0;34m)\u001b[0m\u001b[0;34m\u001b[0m\u001b[0;34m\u001b[0m\u001b[0m\n\u001b[1;32m     23\u001b[0m \u001b[0;31m# ACH_MAE = MAE['ACH']\u001b[0m\u001b[0;34m\u001b[0m\u001b[0;34m\u001b[0m\u001b[0;34m\u001b[0m\u001b[0m\n\u001b[0;32m---> 24\u001b[0;31m \u001b[0mACH_MAE\u001b[0m \u001b[0;34m=\u001b[0m \u001b[0mMAE\u001b[0m\u001b[0;34m[\u001b[0m\u001b[0;34m'W1 Cp'\u001b[0m\u001b[0;34m]\u001b[0m\u001b[0;34m\u001b[0m\u001b[0;34m\u001b[0m\u001b[0m\n\u001b[0m\u001b[1;32m     25\u001b[0m \u001b[0mPRED_MAE\u001b[0m \u001b[0;34m=\u001b[0m \u001b[0mMAE\u001b[0m\u001b[0;34m[\u001b[0m\u001b[0;34m'Prediction'\u001b[0m\u001b[0;34m]\u001b[0m\u001b[0;34m\u001b[0m\u001b[0;34m\u001b[0m\u001b[0m\n\u001b[1;32m     26\u001b[0m \u001b[0mabsolute_diff_MAE\u001b[0m \u001b[0;34m=\u001b[0m \u001b[0mabs\u001b[0m\u001b[0;34m(\u001b[0m\u001b[0mACH_MAE\u001b[0m\u001b[0;34m-\u001b[0m\u001b[0mPRED_MAE\u001b[0m\u001b[0;34m)\u001b[0m\u001b[0;34m\u001b[0m\u001b[0;34m\u001b[0m\u001b[0m\n",
            "\u001b[0;32m/usr/local/lib/python3.7/dist-packages/pandas/core/frame.py\u001b[0m in \u001b[0;36m__getitem__\u001b[0;34m(self, key)\u001b[0m\n\u001b[1;32m   3456\u001b[0m             \u001b[0;32mif\u001b[0m \u001b[0mself\u001b[0m\u001b[0;34m.\u001b[0m\u001b[0mcolumns\u001b[0m\u001b[0;34m.\u001b[0m\u001b[0mnlevels\u001b[0m \u001b[0;34m>\u001b[0m \u001b[0;36m1\u001b[0m\u001b[0;34m:\u001b[0m\u001b[0;34m\u001b[0m\u001b[0;34m\u001b[0m\u001b[0m\n\u001b[1;32m   3457\u001b[0m                 \u001b[0;32mreturn\u001b[0m \u001b[0mself\u001b[0m\u001b[0;34m.\u001b[0m\u001b[0m_getitem_multilevel\u001b[0m\u001b[0;34m(\u001b[0m\u001b[0mkey\u001b[0m\u001b[0;34m)\u001b[0m\u001b[0;34m\u001b[0m\u001b[0;34m\u001b[0m\u001b[0m\n\u001b[0;32m-> 3458\u001b[0;31m             \u001b[0mindexer\u001b[0m \u001b[0;34m=\u001b[0m \u001b[0mself\u001b[0m\u001b[0;34m.\u001b[0m\u001b[0mcolumns\u001b[0m\u001b[0;34m.\u001b[0m\u001b[0mget_loc\u001b[0m\u001b[0;34m(\u001b[0m\u001b[0mkey\u001b[0m\u001b[0;34m)\u001b[0m\u001b[0;34m\u001b[0m\u001b[0;34m\u001b[0m\u001b[0m\n\u001b[0m\u001b[1;32m   3459\u001b[0m             \u001b[0;32mif\u001b[0m \u001b[0mis_integer\u001b[0m\u001b[0;34m(\u001b[0m\u001b[0mindexer\u001b[0m\u001b[0;34m)\u001b[0m\u001b[0;34m:\u001b[0m\u001b[0;34m\u001b[0m\u001b[0;34m\u001b[0m\u001b[0m\n\u001b[1;32m   3460\u001b[0m                 \u001b[0mindexer\u001b[0m \u001b[0;34m=\u001b[0m \u001b[0;34m[\u001b[0m\u001b[0mindexer\u001b[0m\u001b[0;34m]\u001b[0m\u001b[0;34m\u001b[0m\u001b[0;34m\u001b[0m\u001b[0m\n",
            "\u001b[0;32m/usr/local/lib/python3.7/dist-packages/pandas/core/indexes/base.py\u001b[0m in \u001b[0;36mget_loc\u001b[0;34m(self, key, method, tolerance)\u001b[0m\n\u001b[1;32m   3361\u001b[0m                 \u001b[0;32mreturn\u001b[0m \u001b[0mself\u001b[0m\u001b[0;34m.\u001b[0m\u001b[0m_engine\u001b[0m\u001b[0;34m.\u001b[0m\u001b[0mget_loc\u001b[0m\u001b[0;34m(\u001b[0m\u001b[0mcasted_key\u001b[0m\u001b[0;34m)\u001b[0m\u001b[0;34m\u001b[0m\u001b[0;34m\u001b[0m\u001b[0m\n\u001b[1;32m   3362\u001b[0m             \u001b[0;32mexcept\u001b[0m \u001b[0mKeyError\u001b[0m \u001b[0;32mas\u001b[0m \u001b[0merr\u001b[0m\u001b[0;34m:\u001b[0m\u001b[0;34m\u001b[0m\u001b[0;34m\u001b[0m\u001b[0m\n\u001b[0;32m-> 3363\u001b[0;31m                 \u001b[0;32mraise\u001b[0m \u001b[0mKeyError\u001b[0m\u001b[0;34m(\u001b[0m\u001b[0mkey\u001b[0m\u001b[0;34m)\u001b[0m \u001b[0;32mfrom\u001b[0m \u001b[0merr\u001b[0m\u001b[0;34m\u001b[0m\u001b[0;34m\u001b[0m\u001b[0m\n\u001b[0m\u001b[1;32m   3364\u001b[0m \u001b[0;34m\u001b[0m\u001b[0m\n\u001b[1;32m   3365\u001b[0m         \u001b[0;32mif\u001b[0m \u001b[0mis_scalar\u001b[0m\u001b[0;34m(\u001b[0m\u001b[0mkey\u001b[0m\u001b[0;34m)\u001b[0m \u001b[0;32mand\u001b[0m \u001b[0misna\u001b[0m\u001b[0;34m(\u001b[0m\u001b[0mkey\u001b[0m\u001b[0;34m)\u001b[0m \u001b[0;32mand\u001b[0m \u001b[0;32mnot\u001b[0m \u001b[0mself\u001b[0m\u001b[0;34m.\u001b[0m\u001b[0mhasnans\u001b[0m\u001b[0;34m:\u001b[0m\u001b[0;34m\u001b[0m\u001b[0;34m\u001b[0m\u001b[0m\n",
            "\u001b[0;31mKeyError\u001b[0m: 'W1 Cp'"
          ]
        }
      ],
      "source": [
        "import numpy as np\n",
        "import matplotlib.pyplot as plt\n",
        "import pandas as pd\n",
        "\n",
        "def drawComparison (ACH, PRED):\n",
        "    fig = plt.figure()\n",
        "    plt.title('Testing Set', FontSize=24)\n",
        "    plt.scatter(ACH, PRED)\n",
        "    plt.xlabel('True Values [ACH]', FontSize=24)\n",
        "    plt.ylabel('Predictions [ACH]', FontSize=24)\n",
        "    plt.xticks(fontsize=20)\n",
        "    plt.yticks(fontsize=20)\n",
        "    x = np.linspace(-5,60,20)\n",
        "    y = x\n",
        "    plt.plot(x, y, '-r', label='y=x')\n",
        "    plt.axis('equal')\n",
        "    plt.axis('square')\n",
        "\n",
        "    fig.set_size_inches(16, 9)\n",
        "    fig.savefig('comparison', dpi=fig.dpi)\n",
        "\n",
        "MAE = pd.read_csv('result_Analysis_MAE.csv')\n",
        "# ACH_MAE = MAE['ACH']\n",
        "ACH_MAE = MAE['W1 Cp']\n",
        "PRED_MAE = MAE['Prediction']\n",
        "absolute_diff_MAE = abs(ACH_MAE-PRED_MAE)\n",
        "absolute_percentage_diff_MAE = abs(ACH_MAE-PRED_MAE)/abs(ACH_MAE)\n",
        "drawComparison(ACH_MAE, PRED_MAE)\n",
        "\n",
        "# Rating_GT = MAE['ACH']\n",
        "# Rating_Pred = MAE['ACH']\n",
        "# is_equal = MAE['ACH']\n",
        "Rating_GT = MAE['W1 Cp']\n",
        "Rating_Pred = MAE['W1 Cp']\n",
        "is_equal = MAE['W1 Cp']\n",
        "\n",
        "Output = pd.concat([ACH_MAE, PRED_MAE, absolute_diff_MAE, \n",
        "                    absolute_percentage_diff_MAE, Rating_GT, Rating_Pred, is_equal],axis=1,ignore_index=True)\n",
        "# Output.columns=['ACH','PRED_MAE','absolute_diff_MAE',\n",
        "                              # 'absolute_percentage_diff_MAE','Rating_GT', 'Rating_Pred']\n",
        "\n",
        "Output.columns=['ACH','PRED_MAE','absolute_diff_MAE',\n",
        "                              'absolute_percentage_diff_MAE','Rating_GT', 'Rating_Pred','is_equal']\n",
        "\n",
        "# Output.loc[Output['ACH'] <=5, 'Rating_GT'] = 0\n",
        "# Output.loc[(Output['ACH'] >5) & (Output['ACH'] <=10), 'Rating_GT'] = 1\n",
        "# Output.loc[(Output['ACH'] >10) & (Output['ACH'] <=30), 'Rating_GT'] = 2\n",
        "# Output.loc[(Output['ACH'] >30) & (Output['ACH'] <=70), 'Rating_GT'] = 3\n",
        "# # Output.loc[(Output['ACH'] >44) & (Output['ACH'] <=70), 'Rating_GT'] = 4\n",
        "# Output.loc[Output['ACH'] >70, 'Rating_GT'] = 4\n",
        "\n",
        "# Output.loc[Output['PRED_MAE'] <=5, 'Rating_Pred'] = 0\n",
        "# Output.loc[(Output['PRED_MAE'] >5) & (Output['PRED_MAE'] <=10), 'Rating_Pred'] = 1\n",
        "# Output.loc[(Output['PRED_MAE'] >10) & (Output['PRED_MAE'] <=30), 'Rating_Pred'] = 2\n",
        "# Output.loc[(Output['PRED_MAE'] >30) & (Output['PRED_MAE'] <=70), 'Rating_Pred'] = 3\n",
        "# # Output.loc[(Output['PRED_MAE'] >44) & (Output['PRED_MAE'] <=70), 'Rating_Pred'] = 4\n",
        "# Output.loc[Output['PRED_MAE'] >70, 'Rating_Pred'] = 4\n",
        "\n",
        "# Output.loc[Output['ACH'] <=4, 'Rating_GT'] = 0\n",
        "# Output.loc[(Output['ACH'] >4) & (Output['ACH'] <=8), 'Rating_GT'] = 1\n",
        "# Output.loc[(Output['ACH'] >8) & (Output['ACH'] <=16), 'Rating_GT'] = 2\n",
        "# Output.loc[Output['ACH'] >16, 'Rating_GT'] = 3\n",
        "# Output.loc[Output['PRED_MAE'] <=4, 'Rating_Pred'] = 0\n",
        "# Output.loc[(Output['PRED_MAE'] >4) & (Output['PRED_MAE'] <=8), 'Rating_Pred'] = 1\n",
        "# Output.loc[(Output['PRED_MAE'] >8) & (Output['PRED_MAE'] <=16), 'Rating_Pred'] = 2\n",
        "# Output.loc[Output['PRED_MAE'] >16, 'Rating_Pred'] = 3\n",
        "\n",
        "# Output.loc[Output['Rating_GT'] == Output['Rating_Pred'], 'is equal'] = 1\n",
        "# count_Pred = Output['Rating_Pred'].value_counts()\n",
        "# count_GT = Output['Rating_GT'].value_counts()\n",
        "\n",
        "Output.to_csv('PaperResult.csv')"
      ]
    },
    {
      "cell_type": "code",
      "execution_count": null,
      "metadata": {
        "colab": {
          "base_uri": "https://localhost:8080/",
          "height": 234
        },
        "id": "phu-LiQNbEIR",
        "outputId": "af40b5e3-15e5-4cf1-8a53-3d13c52ab9aa"
      },
      "outputs": [
        {
          "ename": "NameError",
          "evalue": "ignored",
          "output_type": "error",
          "traceback": [
            "\u001b[0;31m---------------------------------------------------------------------------\u001b[0m",
            "\u001b[0;31mNameError\u001b[0m                                 Traceback (most recent call last)",
            "\u001b[0;32m<ipython-input-9-62ab9ad6b08e>\u001b[0m in \u001b[0;36m<module>\u001b[0;34m()\u001b[0m\n\u001b[1;32m      1\u001b[0m \u001b[0mtrue_count\u001b[0m \u001b[0;34m=\u001b[0m \u001b[0;36m0\u001b[0m\u001b[0;34m\u001b[0m\u001b[0;34m\u001b[0m\u001b[0m\n\u001b[0;32m----> 2\u001b[0;31m \u001b[0mtotal_count\u001b[0m \u001b[0;34m=\u001b[0m \u001b[0mlen\u001b[0m\u001b[0;34m(\u001b[0m\u001b[0mOutput\u001b[0m\u001b[0;34m[\u001b[0m\u001b[0;34m'Rating_GT'\u001b[0m\u001b[0;34m]\u001b[0m\u001b[0;34m)\u001b[0m\u001b[0;34m\u001b[0m\u001b[0;34m\u001b[0m\u001b[0m\n\u001b[0m\u001b[1;32m      3\u001b[0m \u001b[0;32mfor\u001b[0m \u001b[0mi\u001b[0m \u001b[0;32min\u001b[0m \u001b[0mrange\u001b[0m\u001b[0;34m(\u001b[0m\u001b[0mtotal_count\u001b[0m\u001b[0;34m)\u001b[0m\u001b[0;34m:\u001b[0m\u001b[0;34m\u001b[0m\u001b[0;34m\u001b[0m\u001b[0m\n\u001b[1;32m      4\u001b[0m   \u001b[0;32mif\u001b[0m \u001b[0mOutput\u001b[0m\u001b[0;34m[\u001b[0m\u001b[0;34m'Rating_GT'\u001b[0m\u001b[0;34m]\u001b[0m\u001b[0;34m.\u001b[0m\u001b[0miloc\u001b[0m\u001b[0;34m[\u001b[0m\u001b[0mi\u001b[0m\u001b[0;34m]\u001b[0m \u001b[0;34m==\u001b[0m \u001b[0mOutput\u001b[0m\u001b[0;34m[\u001b[0m\u001b[0;34m'Rating_Pred'\u001b[0m\u001b[0;34m]\u001b[0m\u001b[0;34m.\u001b[0m\u001b[0miloc\u001b[0m\u001b[0;34m[\u001b[0m\u001b[0mi\u001b[0m\u001b[0;34m]\u001b[0m\u001b[0;34m:\u001b[0m\u001b[0;34m\u001b[0m\u001b[0;34m\u001b[0m\u001b[0m\n\u001b[1;32m      5\u001b[0m     \u001b[0mtrue_count\u001b[0m \u001b[0;34m+=\u001b[0m \u001b[0;36m1\u001b[0m\u001b[0;34m\u001b[0m\u001b[0;34m\u001b[0m\u001b[0m\n",
            "\u001b[0;31mNameError\u001b[0m: name 'Output' is not defined"
          ]
        }
      ],
      "source": [
        "true_count = 0\n",
        "total_count = len(Output['Rating_GT'])\n",
        "for i in range(total_count):\n",
        "  if Output['Rating_GT'].iloc[i] == Output['Rating_Pred'].iloc[i]:\n",
        "    true_count += 1\n",
        "true_percent = true_count/total_count\n",
        "\n",
        "print(true_percent)"
      ]
    }
  ],
  "metadata": {
    "accelerator": "GPU",
    "colab": {
      "collapsed_sections": [],
      "history_visible": true,
      "name": "GCN 17 May_.ipynb",
      "provenance": []
    },
    "kernelspec": {
      "display_name": "Python 3.8.0 ('mlds')",
      "language": "python",
      "name": "python3"
    },
    "language_info": {
      "codemirror_mode": {
        "name": "ipython",
        "version": 3
      },
      "file_extension": ".py",
      "mimetype": "text/x-python",
      "name": "python",
      "nbconvert_exporter": "python",
      "pygments_lexer": "ipython3",
      "version": "3.8.0"
    },
    "vscode": {
      "interpreter": {
        "hash": "8eb7b885f2208ae6b54ba7042d7c707c6e996b7bcbec7b4929157dd301d245e1"
      }
    }
  },
  "nbformat": 4,
  "nbformat_minor": 0
}
